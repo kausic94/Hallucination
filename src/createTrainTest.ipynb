{
 "cells": [
  {
   "cell_type": "code",
   "execution_count": 1,
   "metadata": {},
   "outputs": [],
   "source": [
    "import numpy as np\n",
    "import cv2\n",
    "import argparse\n",
    "import os\n",
    "import sys\n",
    "from tqdm import tqdm\n",
    "from sklearn.utils import shuffle\n",
    "sys.argv=['createTrainTest', '--input','/data/Kausic/NYUD/RAW/Depth','--groundtruth=/data/Kausic/NYUD/RAW/RGB','--splitRatio','0.8','--savePath','/data/Kausic/NYUD/RAW'] # Jupyter testing"
   ]
  },
  {
   "cell_type": "code",
   "execution_count": 2,
   "metadata": {},
   "outputs": [],
   "source": [
    "parser=argparse.ArgumentParser(description=\"Helps to create a train test split of the data you have\")\n",
    "parser.add_argument('--input',help='directory that contains all your input data (depth images) ',default='./')\n",
    "parser.add_argument('--groundtruth',help='directory that contains your ground truth (RGB images)',default='./')\n",
    "parser.add_argument('--splitRatio', type = float , help = 'what portion of the data do you want as train 0>ratio>1',default='0.8')\n",
    "parser.add_argument('--savePath',help='Directory where you want the train and test files to be created',default='./')\n",
    "args=parser.parse_args()\n",
    "inputDir=args.input\n",
    "gtDir = args.groundtruth\n",
    "splitRatio=args.splitRatio\n",
    "savePath=args.savePath"
   ]
  },
  {
   "cell_type": "code",
   "execution_count": 3,
   "metadata": {},
   "outputs": [],
   "source": [
    "rgb=os.listdir(gtDir)\n",
    "depth=os.listdir(inputDir)\n",
    "rgb.sort()\n",
    "depth.sort()\n",
    "assert len(rgb) == len(depth), \"Input and ground truth directories don't have equal number of images\""
   ]
  },
  {
   "cell_type": "code",
   "execution_count": 4,
   "metadata": {},
   "outputs": [
    {
     "name": "stderr",
     "output_type": "stream",
     "text": [
      "Check and append: 100%|██████████| 135320/135320 [24:13<00:00, 93.13it/s]\n"
     ]
    }
   ],
   "source": [
    "depthNames,RGBNames = [] , []\n",
    "count=0\n",
    "for i in tqdm(range(len(rgb)),desc=\"Check and append\"):\n",
    "    rgbn=os.path.join(gtDir,rgb[i])\n",
    "    depthn=os.path.join(inputDir,depth[i])\n",
    "    if cv2.imread(rgbn) is None or cv2.imread(depthn) is None :\n",
    "        continue    \n",
    "    depthNames.append(depthn)\n",
    "    RGBNames.append(rgbn)\n",
    "    "
   ]
  },
  {
   "cell_type": "code",
   "execution_count": 5,
   "metadata": {},
   "outputs": [
    {
     "name": "stderr",
     "output_type": "stream",
     "text": [
      "Preparing train files: 100%|██████████| 108256/108256 [00:00<00:00, 1536223.72it/s]\n",
      "Preparing test files: 100%|██████████| 27064/27064 [00:00<00:00, 1079837.17it/s]\n"
     ]
    }
   ],
   "source": [
    "depthNames,RGBNames= shuffle(depthNames,RGBNames)\n",
    "index= int(len(depthNames)*splitRatio)\n",
    "train_d,train_rgb = depthNames[:index],RGBNames[:index]\n",
    "test_d,test_rgb = depthNames[index:],RGBNames[index:]\n",
    "train_file,test_file=os.path.join(savePath,\"train.txt\"),os.path.join(savePath,\"test.txt\")\n",
    "with open(train_file,'w') as fh:\n",
    "    for i in tqdm(range(len(train_d)),desc=\"Preparing train files\"):\n",
    "        fh.write(train_d[i] + ',' + train_rgb[i] + '\\n')\n",
    "with open(test_file,'w') as fh:\n",
    "    for i in tqdm(range(len(test_d)),desc=\"Preparing test files\"):\n",
    "        fh.write(test_d[i] + ',' + test_rgb[i] + '\\n')\n",
    "    \n",
    "    "
   ]
  },
  {
   "cell_type": "code",
   "execution_count": null,
   "metadata": {},
   "outputs": [],
   "source": []
  },
  {
   "cell_type": "code",
   "execution_count": null,
   "metadata": {},
   "outputs": [],
   "source": []
  },
  {
   "cell_type": "code",
   "execution_count": null,
   "metadata": {},
   "outputs": [],
   "source": []
  }
 ],
 "metadata": {
  "celltoolbar": "Raw Cell Format",
  "kernelspec": {
   "display_name": "Python 2",
   "language": "python",
   "name": "python2"
  },
  "language_info": {
   "codemirror_mode": {
    "name": "ipython",
    "version": 2
   },
   "file_extension": ".py",
   "mimetype": "text/x-python",
   "name": "python",
   "nbconvert_exporter": "python",
   "pygments_lexer": "ipython2",
   "version": "2.7.6"
  }
 },
 "nbformat": 4,
 "nbformat_minor": 2
}
